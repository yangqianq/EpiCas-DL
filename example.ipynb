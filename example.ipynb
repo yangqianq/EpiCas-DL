{
 "cells": [
  {
   "cell_type": "code",
   "execution_count": 1,
   "id": "0c0a9bf7",
   "metadata": {},
   "outputs": [
    {
     "name": "stderr",
     "output_type": "stream",
     "text": [
      "2022-04-23 03:46:31.449221: W tensorflow/stream_executor/platform/default/dso_loader.cc:60] Could not load dynamic library 'libcudart.so.11.0'; dlerror: libcudart.so.11.0: cannot open shared object file: No such file or directory; LD_LIBRARY_PATH: /opt/ohpc/pub/mpi/openmpi3-gnu8/3.1.4/lib:/opt/ohpc/pub/compiler/gcc/8.3.0/lib64:/usr/local/cuda/lib64\n",
      "2022-04-23 03:46:31.449251: I tensorflow/stream_executor/cuda/cudart_stub.cc:29] Ignore above cudart dlerror if you do not have a GPU set up on your machine.\n"
     ]
    }
   ],
   "source": [
    "import numpy as np\n",
    "import pandas as pd\n",
    "import tensorflow as tf\n",
    "import configparser\n",
    "import os\n",
    "import argparse\n",
    "import pickle\n",
    "from function import*\n",
    "import pybedtools\n",
    "from pybedtools import BedTool\n",
    "import shutil "
   ]
  },
  {
   "cell_type": "code",
   "execution_count": 18,
   "id": "2d4ebbd1",
   "metadata": {},
   "outputs": [],
   "source": [
    "def main_pip(sequence,model, chrom=None, start = None, end =None, pamCoord = None, transcript = None, gene=None, cell_line=None):\n",
    "#     args = Args()\n",
    "    print(\"checking sequence input...\")\n",
    "    onehot, bplength = seq(sequence)\n",
    "     \n",
    "    chrom = [chrom]\n",
    "    start = [start]\n",
    "    end = [end]\n",
    "    pos = pd.DataFrame(columns = ['chrom','start','end'])\n",
    "    pos['chrom'],pos['start'],pos['end'] = chrom, start, end\n",
    "    pos.to_csv('./tempfile/%s_pos.bed'%(cell_line),sep = '\\t',index = False, header = False)\n",
    "    \n",
    "    class_threholds = {'23_seq':'CRISPRa_seq','23_epi':'CRISPRa_epi','40_seq':'CRISPRoff_seq','40_epi':'CRISPRoff_epi'}\n",
    "    \n",
    "    if 'seq' in model:\n",
    "            inputs = onehot\n",
    "            class_threhold = class_threholds[str(bplength)+\"_seq\"]\n",
    "            efficiency = predict(inputs, model, class_threhold)\n",
    "    else:\n",
    "        epi_data = endo_annotation(chrom = chrom,start= start, end = end, pamCoord = pamCoord, transcript=transcript, gene=gene, cell_line=cell_line, bplength = bplength)\n",
    "#         endo_annotation(chrom,start, end, pamCoord, transcript, gene, cell_line,bplength)\n",
    "        class_threhold = class_threholds[str(bplength)+\"_epi\"]\n",
    "        inputs = np.concatenate((onehot, epi_data), axis=3)\n",
    "        \n",
    "        efficiency = [predict(inputs, model, class_threhold)]\n",
    "        \n",
    "\n",
    "    shutil.rmtree('./tempfile')  \n",
    "    os.mkdir('./tempfile') \n",
    "    print(\"Predicted Phenotype Score:\"+str(efficiency[0]),\"Probabilities:\"+str(efficiency[1]),\"Threshold:\"+str(efficiency[2]),\"classification:\"+str(efficiency[3]))\n"
   ]
  },
  {
   "cell_type": "code",
   "execution_count": 19,
   "id": "83524ff2",
   "metadata": {},
   "outputs": [
    {
     "name": "stdout",
     "output_type": "stream",
     "text": [
      "checking sequence input...\n",
      "WARNING:tensorflow:11 out of the last 11 calls to <function Model.make_predict_function.<locals>.predict_function at 0x7f725b5f1048> triggered tf.function retracing. Tracing is expensive and the excessive number of tracings could be due to (1) creating @tf.function repeatedly in a loop, (2) passing tensors with different shapes, (3) passing Python objects instead of tensors. For (1), please define your @tf.function outside of the loop. For (2), @tf.function has experimental_relax_shapes=True option that relaxes argument shapes that can avoid unnecessary retracing. For (3), please refer to https://www.tensorflow.org/guide/function#controlling_retracing and https://www.tensorflow.org/api_docs/python/tf/function for  more details.\n",
      "WARNING:tensorflow:11 out of the last 11 calls to <function Model.make_predict_function.<locals>.predict_function at 0x7f7258492378> triggered tf.function retracing. Tracing is expensive and the excessive number of tracings could be due to (1) creating @tf.function repeatedly in a loop, (2) passing tensors with different shapes, (3) passing Python objects instead of tensors. For (1), please define your @tf.function outside of the loop. For (2), @tf.function has experimental_relax_shapes=True option that relaxes argument shapes that can avoid unnecessary retracing. For (3), please refer to https://www.tensorflow.org/guide/function#controlling_retracing and https://www.tensorflow.org/api_docs/python/tf/function for  more details.\n",
      "Predicted Phenotype Score:0.22935502 Probabilities:0.02367191 Threshold:0.2838078 classification:0\n"
     ]
    }
   ],
   "source": [
    "# Only sequence predicted\n",
    "main_pip(sequence = \"GGGCCCAGATCCCTCTATGTGCTCGAAGCAGGTGGACCCC\",model = 'CRISPRoff_seq')"
   ]
  },
  {
   "cell_type": "code",
   "execution_count": 3,
   "id": "f7520af5",
   "metadata": {},
   "outputs": [
    {
     "name": "stdout",
     "output_type": "stream",
     "text": [
      "checking sequence input...\n",
      "0\n",
      "0\n"
     ]
    },
    {
     "name": "stderr",
     "output_type": "stream",
     "text": [
      "2022-04-23 03:49:57.310813: I tensorflow/compiler/jit/xla_cpu_device.cc:41] Not creating XLA devices, tf_xla_enable_xla_devices not set\n",
      "2022-04-23 03:49:57.311822: W tensorflow/stream_executor/platform/default/dso_loader.cc:60] Could not load dynamic library 'libcuda.so.1'; dlerror: libcuda.so.1: cannot open shared object file: No such file or directory; LD_LIBRARY_PATH: /opt/ohpc/pub/mpi/openmpi3-gnu8/3.1.4/lib:/opt/ohpc/pub/compiler/gcc/8.3.0/lib64:/usr/local/cuda/lib64\n",
      "2022-04-23 03:49:57.311846: W tensorflow/stream_executor/cuda/cuda_driver.cc:326] failed call to cuInit: UNKNOWN ERROR (303)\n",
      "2022-04-23 03:49:57.311873: I tensorflow/stream_executor/cuda/cuda_diagnostics.cc:156] kernel driver does not appear to be running on this host (nfcu01): /proc/driver/nvidia/version does not exist\n",
      "2022-04-23 03:49:57.312106: I tensorflow/core/platform/cpu_feature_guard.cc:142] This TensorFlow binary is optimized with oneAPI Deep Neural Network Library (oneDNN) to use the following CPU instructions in performance-critical operations:  AVX2 AVX512F FMA\n",
      "To enable them in other operations, rebuild TensorFlow with the appropriate compiler flags.\n",
      "2022-04-23 03:49:57.312454: I tensorflow/compiler/jit/xla_gpu_device.cc:99] Not creating XLA devices, tf_xla_enable_xla_devices not set\n",
      "2022-04-23 03:49:57.972434: I tensorflow/compiler/mlir/mlir_graph_optimization_pass.cc:116] None of the MLIR optimization passes are enabled (registered 2)\n",
      "2022-04-23 03:49:57.972902: I tensorflow/core/platform/profile_utils/cpu_utils.cc:112] CPU Frequency: 3000000000 Hz\n"
     ]
    },
    {
     "data": {
      "text/plain": [
       "[(0.21985406, -0.0326332, 0.35562915, 0)]"
      ]
     },
     "execution_count": 3,
     "metadata": {},
     "output_type": "execute_result"
    }
   ],
   "source": [
    "# Predicted with epigenetic feature\n",
    "main_pip(sequence = \"GGGCCCAGATCCCTCTATGTGCTCGAAGCAGGTGGACCCC\",model = 'CRISPRoff_epi', chrom = \"chr12\", start = \"100592057\", end = \"100592096\",pamCoord = \"100592087\", transcript = \"P1P2\",gene = \"ACTR6\",cell_line=\"Hek293t\")"
   ]
  },
  {
   "cell_type": "code",
   "execution_count": null,
   "id": "77c356b4",
   "metadata": {},
   "outputs": [],
   "source": []
  },
  {
   "cell_type": "code",
   "execution_count": null,
   "id": "bcc639c8",
   "metadata": {},
   "outputs": [],
   "source": [
    "def Args():\n",
    "    parser = argparse.ArgumentParser()\n",
    "    parser.add_argument(\"-seq\", default=None, type=str, help=\"the input sequence\") \n",
    "    parser.add_argument(\"-model\", default=None, type=str, help=\"the path of model path\")\n",
    "    parser.add_argument(\"-chrom\", default=None, type=str, help=\"the chrom of input sequence\")\n",
    "    parser.add_argument(\"-start\", default=None, type=str, help=\"the start of input sequence\")\n",
    "    parser.add_argument(\"-end\", default=None, type=str, help=\"the end of input sequence\")\n",
    "    parser.add_argument(\"-pamCoord\", default=None, type=str, help=\"the position of pam\")\n",
    "    parser.add_argument(\"-transcript\", default=False, type=str, help=\"the transcript of inputsequece, please refer our article discription\")\n",
    "    parser.add_argument(\"-gene\", default=None, type=str, help=\"the gene of input sequence\")    \n",
    "    parser.add_argument(\"-cell_line\", default='Hek293t', type=int, help=\"The cell line you need\")\n",
    "    #parser.add_argument(\"-batch\", default=None, type=str, help=\"path to the batch file\")\n",
    "    args = parser.parse_args()\n",
    "\n",
    "    return args "
   ]
  },
  {
   "cell_type": "code",
   "execution_count": 22,
   "id": "2d35f355",
   "metadata": {},
   "outputs": [],
   "source": []
  }
 ],
 "metadata": {
  "kernelspec": {
   "display_name": "Python [conda env:xy] *",
   "language": "python",
   "name": "conda-env-xy-py"
  },
  "language_info": {
   "codemirror_mode": {
    "name": "ipython",
    "version": 3
   },
   "file_extension": ".py",
   "mimetype": "text/x-python",
   "name": "python",
   "nbconvert_exporter": "python",
   "pygments_lexer": "ipython3",
   "version": "3.7.1"
  }
 },
 "nbformat": 4,
 "nbformat_minor": 5
}
